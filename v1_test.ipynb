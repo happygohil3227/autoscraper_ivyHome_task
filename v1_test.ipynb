{
 "cells": [
  {
   "cell_type": "code",
   "execution_count": 3,
   "metadata": {},
   "outputs": [],
   "source": [
    "import requests\n",
    "import time\n",
    "import string\n",
    "import json\n",
    "from itertools import product\n",
    "\n",
    "vrsion = '1'\n",
    "\n",
    "API_URL = f'http://35.200.185.69:8000/v1/autocomplete'\n",
    "MAX_REQUESTS = 100  # Limit per minute\n",
    "REQUEST_INTERVAL = 60 / MAX_REQUESTS  # Time gap between requests\n",
    "\n",
    "def fetch_results(query):\n",
    "    \"\"\"Fetch autocomplete results for a given query, handling rate limits.\"\"\"\n",
    "    while True:\n",
    "        # payload = { 'api_key': '535016e4fec5b81b69660ce61a6ea3fd', 'url': f\"{API_URL}?query={query}\" }\n",
    "        # response = requests.get(, json=payload)\n",
    "        # response = requests.get('https://api.scraperapi.com/', params=payload)\n",
    "        response = requests.get(f\"{API_URL}?query={query}\")\n",
    "\n",
    "        #scraperDog \n",
    "       \n",
    "\n",
    "        if response.status_code == 200:\n",
    "            return response.json().get(\"results\", [])\n",
    "\n",
    "        elif response.status_code == 429:\n",
    "            response = requests.get(\"https://api.scrapingdog.com/scrape\", params={\n",
    "                    'api_key': '67e00d3ed872fe215ea70612',\n",
    "                    'url': f\"{API_URL}?query={query}\",\n",
    "                    'dynamic': 'false',\n",
    "                    })\n",
    "            return response.json().get(\"results\", [])\n",
    "            # print(\"Rate limit reached. Waiting 60 seconds before retrying...\")\n",
    "            # time.sleep(60)  # Wait for the rate limit to reset\n",
    "        else:\n",
    "            print(f\"Error {response.status_code} for query '{query}'\")\n",
    "            return []\n",
    "\n",
    "\n"
   ]
  },
  {
   "cell_type": "code",
   "execution_count": 4,
   "metadata": {},
   "outputs": [],
   "source": [
    "v1_char=['a','b','c','d','e','f','g','h','i','j','k','l','m','n','o','p','q','r','s','t','u','v','w','x','y','z']\n",
    "# v2_char=['0','1','2','3','4','5','6','7','8','9']\n",
    "# v2_char.extend(v1_char)"
   ]
  },
  {
   "cell_type": "code",
   "execution_count": null,
   "metadata": {},
   "outputs": [
    {
     "name": "stdout",
     "output_type": "stream",
     "text": [
      "Rate limit reached. Waiting 20 seconds before retrying...\n",
      "Rate limit reached. Waiting 20 seconds before retrying...\n",
      "Rate limit reached. Waiting 20 seconds before retrying...\n",
      "Rate limit reached. Waiting 20 seconds before retrying...\n",
      "Rate limit reached. Waiting 20 seconds before retrying...\n",
      "Rate limit reached. Waiting 20 seconds before retrying...\n",
      "Rate limit reached. Waiting 20 seconds before retrying...\n",
      "Rate limit reached. Waiting 20 seconds before retrying...\n",
      "Rate limit reached. Waiting 20 seconds before retrying...\n",
      "Rate limit reached. Waiting 20 seconds before retrying...\n",
      "Rate limit reached. Waiting 20 seconds before retrying...\n",
      "Rate limit reached. Waiting 20 seconds before retrying...\n",
      "Rate limit reached. Waiting 20 seconds before retrying...\n",
      "Rate limit reached. Waiting 20 seconds before retrying...\n",
      "Rate limit reached. Waiting 20 seconds before retrying...\n",
      "Rate limit reached. Waiting 20 seconds before retrying...\n",
      "Rate limit reached. Waiting 20 seconds before retrying...\n",
      "Rate limit reached. Waiting 20 seconds before retrying...\n",
      "Rate limit reached. Waiting 20 seconds before retrying...\n",
      "Rate limit reached. Waiting 20 seconds before retrying...\n",
      "Rate limit reached. Waiting 20 seconds before retrying...\n",
      "Rate limit reached. Waiting 20 seconds before retrying...\n",
      "Rate limit reached. Waiting 20 seconds before retrying...\n",
      "Rate limit reached. Waiting 20 seconds before retrying...\n",
      "Rate limit reached. Waiting 20 seconds before retrying...\n",
      "Rate limit reached. Waiting 20 seconds before retrying...\n",
      "Rate limit reached. Waiting 20 seconds before retrying...\n",
      "Rate limit reached. Waiting 20 seconds before retrying...\n",
      "Rate limit reached. Waiting 20 seconds before retrying...\n",
      "Rate limit reached. Waiting 20 seconds before retrying...\n",
      "Rate limit reached. Waiting 20 seconds before retrying...\n",
      "Rate limit reached. Waiting 20 seconds before retrying...\n",
      "Rate limit reached. Waiting 20 seconds before retrying...\n",
      "Rate limit reached. Waiting 20 seconds before retrying...\n",
      "Rate limit reached. Waiting 20 seconds before retrying...\n",
      "Rate limit reached. Waiting 20 seconds before retrying...\n",
      "Rate limit reached. Waiting 20 seconds before retrying...\n",
      "Rate limit reached. Waiting 20 seconds before retrying...\n",
      "Rate limit reached. Waiting 20 seconds before retrying...\n",
      "Rate limit reached. Waiting 20 seconds before retrying...\n",
      "Rate limit reached. Waiting 20 seconds before retrying...\n",
      "Rate limit reached. Waiting 20 seconds before retrying...\n",
      "Rate limit reached. Waiting 20 seconds before retrying...\n",
      "Rate limit reached. Waiting 20 seconds before retrying...\n",
      "Rate limit reached. Waiting 20 seconds before retrying...\n",
      "Rate limit reached. Waiting 20 seconds before retrying...\n",
      "Rate limit reached. Waiting 20 seconds before retrying...\n",
      "Rate limit reached. Waiting 20 seconds before retrying...\n",
      "Rate limit reached. Waiting 20 seconds before retrying...\n",
      "Rate limit reached. Waiting 20 seconds before retrying...\n",
      "Rate limit reached. Waiting 20 seconds before retrying...\n",
      "Rate limit reached. Waiting 20 seconds before retrying...\n",
      "Rate limit reached. Waiting 20 seconds before retrying...\n",
      "Rate limit reached. Waiting 20 seconds before retrying...\n",
      "Rate limit reached. Waiting 20 seconds before retrying...\n",
      "Rate limit reached. Waiting 20 seconds before retrying...\n",
      "Rate limit reached. Waiting 20 seconds before retrying...\n",
      "Rate limit reached. Waiting 20 seconds before retrying...\n",
      "Rate limit reached. Waiting 20 seconds before retrying...\n",
      "Rate limit reached. Waiting 20 seconds before retrying...\n",
      "Rate limit reached. Waiting 20 seconds before retrying...\n",
      "Rate limit reached. Waiting 20 seconds before retrying...\n",
      "Rate limit reached. Waiting 20 seconds before retrying...\n",
      "Rate limit reached. Waiting 20 seconds before retrying...\n",
      "Rate limit reached. Waiting 20 seconds before retrying...\n",
      "Rate limit reached. Waiting 20 seconds before retrying...\n",
      "Rate limit reached. Waiting 20 seconds before retrying...\n",
      "Rate limit reached. Waiting 20 seconds before retrying...\n",
      "Rate limit reached. Waiting 20 seconds before retrying...\n",
      "Rate limit reached. Waiting 20 seconds before retrying...\n",
      "Rate limit reached. Waiting 20 seconds before retrying...\n",
      "Rate limit reached. Waiting 20 seconds before retrying...\n",
      "Rate limit reached. Waiting 20 seconds before retrying...\n",
      "Rate limit reached. Waiting 20 seconds before retrying...\n",
      "Rate limit reached. Waiting 20 seconds before retrying...\n",
      "Rate limit reached. Waiting 20 seconds before retrying...\n",
      "Rate limit reached. Waiting 20 seconds before retrying...\n",
      "Rate limit reached. Waiting 20 seconds before retrying...\n",
      "Rate limit reached. Waiting 20 seconds before retrying...\n",
      "Rate limit reached. Waiting 20 seconds before retrying...\n",
      "Rate limit reached. Waiting 20 seconds before retrying...\n",
      "Rate limit reached. Waiting 20 seconds before retrying...\n",
      "Rate limit reached. Waiting 20 seconds before retrying...\n",
      "Rate limit reached. Waiting 20 seconds before retrying...\n",
      "Rate limit reached. Waiting 20 seconds before retrying...\n",
      "Rate limit reached. Waiting 20 seconds before retrying...\n",
      "Rate limit reached. Waiting 20 seconds before retrying...\n",
      "Rate limit reached. Waiting 20 seconds before retrying...\n",
      "Rate limit reached. Waiting 20 seconds before retrying...\n",
      "Rate limit reached. Waiting 20 seconds before retrying...\n",
      "Rate limit reached. Waiting 20 seconds before retrying...\n",
      "Rate limit reached. Waiting 20 seconds before retrying...\n",
      "Rate limit reached. Waiting 20 seconds before retrying...\n",
      "Rate limit reached. Waiting 20 seconds before retrying...\n",
      "Rate limit reached. Waiting 20 seconds before retrying...\n",
      "Rate limit reached. Waiting 20 seconds before retrying...\n",
      "Rate limit reached. Waiting 20 seconds before retrying...\n",
      "Rate limit reached. Waiting 20 seconds before retrying...\n",
      "Rate limit reached. Waiting 20 seconds before retrying...\n",
      "Rate limit reached. Waiting 20 seconds before retrying...\n"
     ]
    }
   ],
   "source": [
    "def find_common_characters(results):\n",
    "    for i in range(len(results[0])):\n",
    "        for j in range(1, len(results)):\n",
    "            if len(results[j])<=i or results[0][i]!= results[j][i]:\n",
    "                return results[0][:i]\n",
    "    return results[0]\n",
    "\n",
    "def next_c(common_characters):\n",
    "    if common_characters[-1]!= 'z':\n",
    "        return common_characters[:-1] + v1_char[v1_char.index(common_characters[-1])+1]\n",
    "    else:\n",
    "        while len(common_characters) and common_characters[-1]=='z':\n",
    "            common_characters=common_characters[:-1]\n",
    "        if len(common_characters)==0:\n",
    "            return '-1'\n",
    "        return common_characters[:-1] + v1_char[v1_char.index(common_characters[-1])+1]\n",
    "    \n",
    "characters =v1_char[0]\n",
    "dict_results=[]\n",
    "api_requests_count=0\n",
    "while True:\n",
    "    # search for characters\n",
    "    # print(characters)\n",
    "    results =fetch_results(characters)\n",
    "    api_requests_count+=1\n",
    "    with open('list_1.txt', 'a') as f:\n",
    "        for i in results:\n",
    "            if i not in dict_results:\n",
    "                f.write(\"%s\\n\" % i)\n",
    "    dict_results=results\n",
    "    if len(results)==12:\n",
    "        common_characters = find_common_characters(results)\n",
    "        d=len(common_characters)\n",
    "\n",
    "        common_characters+=results[-1][d]\n",
    "        characters=common_characters\n",
    "    else:\n",
    "        characters=next_c(characters) \n",
    "        if characters=='-1':\n",
    "            break"
   ]
  },
  {
   "cell_type": "code",
   "execution_count": null,
   "metadata": {},
   "outputs": [
    {
     "name": "stdout",
     "output_type": "stream",
     "text": [
      "Total requests count is 12897\n"
     ]
    }
   ],
   "source": [
    "print(f'Total requests count is {api_requests_count}')"
   ]
  },
  {
   "cell_type": "code",
   "execution_count": 7,
   "metadata": {},
   "outputs": [],
   "source": [
    "data=[]\n",
    "with open(\"list_1.txt\", 'r') as f:\n",
    "    for line in f:\n",
    "        st=line.strip()\n",
    "        if st not in data:\n",
    "            data.append(st)"
   ]
  },
  {
   "cell_type": "code",
   "execution_count": 8,
   "metadata": {},
   "outputs": [
    {
     "data": {
      "text/plain": [
       "18632"
      ]
     },
     "execution_count": 8,
     "metadata": {},
     "output_type": "execute_result"
    }
   ],
   "source": [
    "len(data)"
   ]
  },
  {
   "cell_type": "code",
   "execution_count": null,
   "metadata": {},
   "outputs": [],
   "source": []
  }
 ],
 "metadata": {
  "kernelspec": {
   "display_name": "venv",
   "language": "python",
   "name": "python3"
  },
  "language_info": {
   "codemirror_mode": {
    "name": "ipython",
    "version": 3
   },
   "file_extension": ".py",
   "mimetype": "text/x-python",
   "name": "python",
   "nbconvert_exporter": "python",
   "pygments_lexer": "ipython3",
   "version": "3.12.4"
  }
 },
 "nbformat": 4,
 "nbformat_minor": 2
}
